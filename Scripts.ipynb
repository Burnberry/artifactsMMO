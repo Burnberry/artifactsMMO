{
 "cells": [
  {
   "cell_type": "code",
   "execution_count": 1,
   "id": "91127829-bfbc-419e-bb79-c3f4ada67cad",
   "metadata": {},
   "outputs": [],
   "source": [
    "import requests, threading\n",
    "from time import sleep\n",
    "\n",
    "from helpers import *\n",
    "from player import Player\n",
    "from characters import Noppe, Rubius, Leandra, Hella, Pebbleboy"
   ]
  },
  {
   "cell_type": "code",
   "execution_count": 2,
   "id": "c3dbe157-e473-41c4-9921-e6148c165522",
   "metadata": {},
   "outputs": [],
   "source": [
    "noppe = Noppe()\n",
    "rubius = Rubius()\n",
    "leandra = Leandra()\n",
    "hella = Hella()\n",
    "pebbleboy = Pebbleboy()\n",
    "players = [noppe, rubius, leandra, hella, pebbleboy]\n",
    "for player in players:\n",
    "    player.start_thread()"
   ]
  },
  {
   "cell_type": "code",
   "execution_count": 43,
   "id": "032284ee-bfa0-47d5-9659-f2c573ed88db",
   "metadata": {},
   "outputs": [],
   "source": [
    "pebbleboy.stop_thread()"
   ]
  },
  {
   "cell_type": "code",
   "execution_count": 44,
   "id": "535fcf64-7267-4deb-9981-0976f4ecacbc",
   "metadata": {},
   "outputs": [],
   "source": [
    "pebbleboy.deposit_all()"
   ]
  },
  {
   "cell_type": "code",
   "execution_count": 49,
   "id": "e5745eb9-e350-44d6-a944-8528b3239505",
   "metadata": {},
   "outputs": [],
   "source": [
    "for _ in range(2):\n",
    "    pebbleboy.post(\"action/bank/withdraw\", data={'code': 'gudgeon', 'quantity': 100})\n",
    "    pebbleboy.move(1, 1)\n",
    "    pebbleboy.post(\"action/crafting\", data={'code': 'cooked_gudgeon', 'quantity': 100})\n",
    "    pebbleboy.deposit_all()"
   ]
  },
  {
   "cell_type": "code",
   "execution_count": 50,
   "id": "81d7019d-a23b-4b73-8275-47e2115bd7a5",
   "metadata": {},
   "outputs": [],
   "source": [
    "for _ in range(1):\n",
    "    pebbleboy.post(\"action/bank/withdraw\", data={'code': 'gudgeon', 'quantity': 100})\n",
    "    pebbleboy.move(1, 1)\n",
    "    pebbleboy.post(\"action/crafting\", data={'code': 'cooked_gudgeon', 'quantity': 100})\n",
    "    pebbleboy.deposit_all()"
   ]
  },
  {
   "cell_type": "code",
   "execution_count": 53,
   "id": "ceac1b6d-7847-4cdc-b5f2-a46c0abb3a53",
   "metadata": {},
   "outputs": [
    {
     "ename": "KeyError",
     "evalue": "'data'",
     "output_type": "error",
     "traceback": [
      "\u001b[1;31m---------------------------------------------------------------------------\u001b[0m",
      "\u001b[1;31mKeyError\u001b[0m                                  Traceback (most recent call last)",
      "Cell \u001b[1;32mIn[53], line 12\u001b[0m\n\u001b[0;32m     10\u001b[0m pebbleboy\u001b[38;5;241m.\u001b[39mmove(\u001b[38;5;241m3\u001b[39m, \u001b[38;5;241m1\u001b[39m)\n\u001b[0;32m     11\u001b[0m pebbleboy\u001b[38;5;241m.\u001b[39mpost(\u001b[38;5;124m\"\u001b[39m\u001b[38;5;124maction/crafting\u001b[39m\u001b[38;5;124m\"\u001b[39m, data\u001b[38;5;241m=\u001b[39m{\u001b[38;5;124m'\u001b[39m\u001b[38;5;124mcode\u001b[39m\u001b[38;5;124m'\u001b[39m: \u001b[38;5;124m'\u001b[39m\u001b[38;5;124mwooden_shield\u001b[39m\u001b[38;5;124m'\u001b[39m, \u001b[38;5;124m'\u001b[39m\u001b[38;5;124mquantity\u001b[39m\u001b[38;5;124m'\u001b[39m: \u001b[38;5;241m1\u001b[39m})\n\u001b[1;32m---> 12\u001b[0m \u001b[43mpebbleboy\u001b[49m\u001b[38;5;241;43m.\u001b[39;49m\u001b[43mpost\u001b[49m\u001b[43m(\u001b[49m\u001b[38;5;124;43m\"\u001b[39;49m\u001b[38;5;124;43maction/crafting\u001b[39;49m\u001b[38;5;124;43m\"\u001b[39;49m\u001b[43m,\u001b[49m\u001b[43m \u001b[49m\u001b[43mdata\u001b[49m\u001b[38;5;241;43m=\u001b[39;49m\u001b[43m{\u001b[49m\u001b[38;5;124;43m'\u001b[39;49m\u001b[38;5;124;43mcode\u001b[39;49m\u001b[38;5;124;43m'\u001b[39;49m\u001b[43m:\u001b[49m\u001b[43m \u001b[49m\u001b[38;5;124;43m'\u001b[39;49m\u001b[38;5;124;43mfeather_coat\u001b[39;49m\u001b[38;5;124;43m'\u001b[39;49m\u001b[43m,\u001b[49m\u001b[43m \u001b[49m\u001b[38;5;124;43m'\u001b[39;49m\u001b[38;5;124;43mquantity\u001b[39;49m\u001b[38;5;124;43m'\u001b[39;49m\u001b[43m:\u001b[49m\u001b[43m \u001b[49m\u001b[38;5;241;43m1\u001b[39;49m\u001b[43m}\u001b[49m\u001b[43m)\u001b[49m\n\u001b[0;32m     13\u001b[0m pebbleboy\u001b[38;5;241m.\u001b[39mdeposit_all()\n",
      "File \u001b[1;32m~\\PycharmProjects\\artifactsMMO\\player.py:67\u001b[0m, in \u001b[0;36mPlayer.post\u001b[1;34m(self, action, data)\u001b[0m\n\u001b[0;32m     65\u001b[0m sleep(\u001b[38;5;28mself\u001b[39m\u001b[38;5;241m.\u001b[39mcooldown)\n\u001b[0;32m     66\u001b[0m \u001b[38;5;28mself\u001b[39m\u001b[38;5;241m.\u001b[39mresponse \u001b[38;5;241m=\u001b[39m requests\u001b[38;5;241m.\u001b[39mpost(\u001b[38;5;28mself\u001b[39m\u001b[38;5;241m.\u001b[39mbase_path\u001b[38;5;241m+\u001b[39maction, json\u001b[38;5;241m=\u001b[39mdata, headers\u001b[38;5;241m=\u001b[39mheaders)\n\u001b[1;32m---> 67\u001b[0m data \u001b[38;5;241m=\u001b[39m \u001b[38;5;28;43mself\u001b[39;49m\u001b[38;5;241;43m.\u001b[39;49m\u001b[43mresponse\u001b[49m\u001b[38;5;241;43m.\u001b[39;49m\u001b[43mjson\u001b[49m\u001b[43m(\u001b[49m\u001b[43m)\u001b[49m\u001b[43m[\u001b[49m\u001b[38;5;124;43m'\u001b[39;49m\u001b[38;5;124;43mdata\u001b[39;49m\u001b[38;5;124;43m'\u001b[39;49m\u001b[43m]\u001b[49m\n\u001b[0;32m     68\u001b[0m \u001b[38;5;28;01mif\u001b[39;00m \u001b[38;5;124m'\u001b[39m\u001b[38;5;124mcharacter\u001b[39m\u001b[38;5;124m'\u001b[39m \u001b[38;5;129;01min\u001b[39;00m data:\n\u001b[0;32m     69\u001b[0m     \u001b[38;5;28mself\u001b[39m\u001b[38;5;241m.\u001b[39mset_player_data(data[\u001b[38;5;124m'\u001b[39m\u001b[38;5;124mcharacter\u001b[39m\u001b[38;5;124m'\u001b[39m])\n",
      "\u001b[1;31mKeyError\u001b[0m: 'data'"
     ]
    }
   ],
   "source": [
    "pebbleboy.post(\"action/crafting\", data={'code': 'copper', 'quantity': 4})\n",
    "pebbleboy.move(3, 1)\n",
    "pebbleboy.post(\"action/crafting\", data={'code': 'copper_boots', 'quantity': 1})\n",
    "pebbleboy.post(\"action/crafting\", data={'code': 'copper_helmet', 'quantity': 1})\n",
    "pebbleboy.deposit_all()\n",
    "pebbleboy.post(\"action/bank/withdraw\", data={'code': 'ash_wood', 'quantity': 80})\n",
    "pebbleboy.post(\"action/bank/withdraw\", data={'code': 'feather', 'quantity': 5})\n",
    "pebbleboy.move(-2, -3)\n",
    "pebbleboy.post(\"action/crafting\", data={'code': 'ash_plank', 'quantity': 8})\n",
    "pebbleboy.move(3, 1)\n",
    "pebbleboy.post(\"action/crafting\", data={'code': 'wooden_shield', 'quantity': 1})\n",
    "pebbleboy.post(\"action/crafting\", data={'code': 'feather_coat', 'quantity': 1})\n",
    "pebbleboy.deposit_all()"
   ]
  },
  {
   "cell_type": "code",
   "execution_count": 58,
   "id": "8993adb9-e27f-48d4-bb86-b686cb427fb3",
   "metadata": {},
   "outputs": [],
   "source": [
    "for _ in range(6):\n",
    "    pebbleboy.deposit_all()\n",
    "    pebbleboy.post(\"action/bank/withdraw\", data={'code': 'copper_ore', 'quantity': 80})\n",
    "    pebbleboy.move(1, 5)\n",
    "    pebbleboy.post(\"action/crafting\", data={'code': 'copper', 'quantity': 8})\n",
    "    pebbleboy.move(3, 1)\n",
    "    pebbleboy.post(\"action/crafting\", data={'code': 'copper_helmet', 'quantity': 1})"
   ]
  },
  {
   "cell_type": "code",
   "execution_count": 63,
   "id": "875fab24-9878-4807-a366-842ffc54e560",
   "metadata": {},
   "outputs": [],
   "source": [
    "pebbleboy.move(-2, -3)\n",
    "pebbleboy.post(\"action/crafting\", data={'code': 'ash_plank', 'quantity': 10})\n",
    "for _ in range(5):\n",
    "    pebbleboy.deposit_all()\n",
    "    pebbleboy.post(\"action/bank/withdraw\", data={'code': 'ash_wood', 'quantity': 100})\n",
    "    pebbleboy.move(-2, -3)\n",
    "    pebbleboy.post(\"action/crafting\", data={'code': 'ash_plank', 'quantity': 10})"
   ]
  },
  {
   "cell_type": "code",
   "execution_count": 62,
   "id": "217e1c65-c9dd-4ed9-9bfd-877c0528855a",
   "metadata": {},
   "outputs": [
    {
     "data": {
      "text/plain": [
       "b'{\"error\":{\"code\":598,\"message\":\"Workshop not found on this map.\"}}'"
      ]
     },
     "execution_count": 62,
     "metadata": {},
     "output_type": "execute_result"
    }
   ],
   "source": [
    "pebbleboy.response.content"
   ]
  },
  {
   "cell_type": "code",
   "execution_count": 64,
   "id": "4e23cce0-fd06-4553-b8d7-08637859ddee",
   "metadata": {},
   "outputs": [],
   "source": [
    "pebbleboy.start_thread()"
   ]
  },
  {
   "cell_type": "code",
   "execution_count": null,
   "id": "b1583aa5-d22c-4a1d-8188-560a9b69ccf9",
   "metadata": {},
   "outputs": [],
   "source": []
  },
  {
   "cell_type": "code",
   "execution_count": 25,
   "id": "fc4e5649-2150-4302-898e-4e2f2625255f",
   "metadata": {},
   "outputs": [],
   "source": [
    "noppe.post(\"action/unequip\", data={'slot': 'weapon', 'quantity': 1})\n",
    "noppe.deposit_all()\n",
    "noppe.post(\"action/bank/withdraw\", data={'code': 'wooden_staff', 'quantity': 1})\n",
    "noppe.post(\"action/equip\", data={'code': 'wooden_staff', 'slot': 'weapon', 'quantity': 1})"
   ]
  },
  {
   "cell_type": "code",
   "execution_count": 28,
   "id": "f7511871-7274-49a5-b19d-5e82a1c121df",
   "metadata": {},
   "outputs": [],
   "source": [
    "noppe.deposit_all()"
   ]
  },
  {
   "cell_type": "code",
   "execution_count": 30,
   "id": "b6a49493-9617-4dca-9761-369beb399154",
   "metadata": {},
   "outputs": [],
   "source": [
    "noppe.move(4, 1)\n",
    "noppe.post(\"action/bank/withdraw\", data={'code': 'cooked_gudgeon', 'quantity': 50})"
   ]
  },
  {
   "cell_type": "code",
   "execution_count": 41,
   "id": "bded502a-c18b-43b8-ae6d-740a62fe13da",
   "metadata": {},
   "outputs": [
    {
     "ename": "KeyError",
     "evalue": "'data'",
     "output_type": "error",
     "traceback": [
      "\u001b[1;31m---------------------------------------------------------------------------\u001b[0m",
      "\u001b[1;31mKeyError\u001b[0m                                  Traceback (most recent call last)",
      "Cell \u001b[1;32mIn[41], line 4\u001b[0m\n\u001b[0;32m      2\u001b[0m \u001b[38;5;28;01mwhile\u001b[39;00m has_healing:\n\u001b[0;32m      3\u001b[0m     \u001b[38;5;28;01mif\u001b[39;00m noppe\u001b[38;5;241m.\u001b[39mmax_hp \u001b[38;5;241m-\u001b[39m noppe\u001b[38;5;241m.\u001b[39mhp \u001b[38;5;241m>\u001b[39m\u001b[38;5;241m=\u001b[39m \u001b[38;5;241m75\u001b[39m:\n\u001b[1;32m----> 4\u001b[0m         \u001b[43mnoppe\u001b[49m\u001b[38;5;241;43m.\u001b[39;49m\u001b[43mpost\u001b[49m\u001b[43m(\u001b[49m\u001b[38;5;124;43m\"\u001b[39;49m\u001b[38;5;124;43maction/use\u001b[39;49m\u001b[38;5;124;43m\"\u001b[39;49m\u001b[43m,\u001b[49m\u001b[43m \u001b[49m\u001b[43mdata\u001b[49m\u001b[38;5;241;43m=\u001b[39;49m\u001b[43m{\u001b[49m\u001b[38;5;124;43m'\u001b[39;49m\u001b[38;5;124;43mcode\u001b[39;49m\u001b[38;5;124;43m'\u001b[39;49m\u001b[43m:\u001b[49m\u001b[43m \u001b[49m\u001b[38;5;124;43m'\u001b[39;49m\u001b[38;5;124;43mcooked_gudgeon\u001b[39;49m\u001b[38;5;124;43m'\u001b[39;49m\u001b[43m,\u001b[49m\u001b[43m \u001b[49m\u001b[38;5;124;43m'\u001b[39;49m\u001b[38;5;124;43mquantity\u001b[39;49m\u001b[38;5;124;43m'\u001b[39;49m\u001b[43m:\u001b[49m\u001b[43m \u001b[49m\u001b[38;5;241;43m1\u001b[39;49m\u001b[43m}\u001b[49m\u001b[43m)\u001b[49m\n\u001b[0;32m      5\u001b[0m     noppe\u001b[38;5;241m.\u001b[39mmove(\u001b[38;5;241m0\u001b[39m, \u001b[38;5;241m1\u001b[39m)\n\u001b[0;32m      6\u001b[0m     noppe\u001b[38;5;241m.\u001b[39mpost(\u001b[38;5;124m\"\u001b[39m\u001b[38;5;124maction/fight\u001b[39m\u001b[38;5;124m\"\u001b[39m)\n",
      "File \u001b[1;32m~\\PycharmProjects\\artifactsMMO\\player.py:67\u001b[0m, in \u001b[0;36mPlayer.post\u001b[1;34m(self, action, data)\u001b[0m\n\u001b[0;32m     65\u001b[0m sleep(\u001b[38;5;28mself\u001b[39m\u001b[38;5;241m.\u001b[39mcooldown)\n\u001b[0;32m     66\u001b[0m \u001b[38;5;28mself\u001b[39m\u001b[38;5;241m.\u001b[39mresponse \u001b[38;5;241m=\u001b[39m requests\u001b[38;5;241m.\u001b[39mpost(\u001b[38;5;28mself\u001b[39m\u001b[38;5;241m.\u001b[39mbase_path\u001b[38;5;241m+\u001b[39maction, json\u001b[38;5;241m=\u001b[39mdata, headers\u001b[38;5;241m=\u001b[39mheaders)\n\u001b[1;32m---> 67\u001b[0m data \u001b[38;5;241m=\u001b[39m \u001b[38;5;28;43mself\u001b[39;49m\u001b[38;5;241;43m.\u001b[39;49m\u001b[43mresponse\u001b[49m\u001b[38;5;241;43m.\u001b[39;49m\u001b[43mjson\u001b[49m\u001b[43m(\u001b[49m\u001b[43m)\u001b[49m\u001b[43m[\u001b[49m\u001b[38;5;124;43m'\u001b[39;49m\u001b[38;5;124;43mdata\u001b[39;49m\u001b[38;5;124;43m'\u001b[39;49m\u001b[43m]\u001b[49m\n\u001b[0;32m     68\u001b[0m \u001b[38;5;28;01mif\u001b[39;00m \u001b[38;5;124m'\u001b[39m\u001b[38;5;124mcharacter\u001b[39m\u001b[38;5;124m'\u001b[39m \u001b[38;5;129;01min\u001b[39;00m data:\n\u001b[0;32m     69\u001b[0m     \u001b[38;5;28mself\u001b[39m\u001b[38;5;241m.\u001b[39mset_player_data(data[\u001b[38;5;124m'\u001b[39m\u001b[38;5;124mcharacter\u001b[39m\u001b[38;5;124m'\u001b[39m])\n",
      "\u001b[1;31mKeyError\u001b[0m: 'data'"
     ]
    }
   ],
   "source": [
    "has_healing = True\n",
    "while has_healing:\n",
    "    if noppe.max_hp - noppe.hp >= 75:\n",
    "        noppe.post(\"action/use\", data={'code': 'cooked_gudgeon', 'quantity': 1})\n",
    "    noppe.move(0, 1)\n",
    "    noppe.post(\"action/fight\")\n",
    "    \n",
    "    if noppe.inventory_count >= 99:\n",
    "        noppe.deposit_all()\n",
    "    for slot in noppe.inventory:\n",
    "        if slot['code'] == 'cooked_gudgeon':\n",
    "            has_healing = True\n",
    "noppe.start_thread()"
   ]
  },
  {
   "cell_type": "code",
   "execution_count": 33,
   "id": "bb530d9b-e7c5-4766-a173-9fca81654a5d",
   "metadata": {},
   "outputs": [
    {
     "data": {
      "text/plain": [
       "80"
      ]
     },
     "execution_count": 33,
     "metadata": {},
     "output_type": "execute_result"
    }
   ],
   "source": [
    "noppe.max_hp - noppe.hp"
   ]
  },
  {
   "cell_type": "code",
   "execution_count": 36,
   "id": "c02781c5-908f-43d4-93b8-8372e1800c2e",
   "metadata": {},
   "outputs": [
    {
     "data": {
      "text/plain": [
       "True"
      ]
     },
     "execution_count": 36,
     "metadata": {},
     "output_type": "execute_result"
    }
   ],
   "source": [
    "has_healing = False\n",
    "for slot in noppe.inventory:\n",
    "    if slot['code'] == 'cooked_gudgeon':\n",
    "        has_healing = True"
   ]
  },
  {
   "cell_type": "code",
   "execution_count": 32,
   "id": "e10c9ae4-eeb6-439f-b27a-4607486d5d3f",
   "metadata": {},
   "outputs": [],
   "source": [
    "noppe.move(0, 1)\n",
    "noppe.post(\"action/fight\")\n",
    "noppe.post(\"action/fight\")"
   ]
  },
  {
   "cell_type": "code",
   "execution_count": 39,
   "id": "5f0c0d11-b77b-481c-99c3-3f34d47a7681",
   "metadata": {},
   "outputs": [
    {
     "data": {
      "text/plain": [
       "b'{\"error\":{\"code\":404,\"message\":\"Not Found\"}}'"
      ]
     },
     "execution_count": 39,
     "metadata": {},
     "output_type": "execute_result"
    }
   ],
   "source": [
    "noppe.response.content"
   ]
  },
  {
   "cell_type": "code",
   "execution_count": null,
   "id": "2699e86a-8496-4547-bb4a-f38338b5cba4",
   "metadata": {},
   "outputs": [],
   "source": []
  },
  {
   "cell_type": "code",
   "execution_count": null,
   "id": "0ed54d11-f0d3-4403-aaa4-c07e93f30b4b",
   "metadata": {},
   "outputs": [],
   "source": []
  },
  {
   "cell_type": "code",
   "execution_count": null,
   "id": "2c5c9f7e-8d16-47c7-a63f-61bb1508d7dc",
   "metadata": {},
   "outputs": [],
   "source": []
  },
  {
   "cell_type": "code",
   "execution_count": null,
   "id": "9ca07971-0a48-4abc-b8e8-4442df6adfd1",
   "metadata": {},
   "outputs": [],
   "source": []
  },
  {
   "cell_type": "code",
   "execution_count": 20,
   "id": "cc4215c7-f71b-4a31-981b-d97b2c46ec05",
   "metadata": {},
   "outputs": [],
   "source": [
    "pebbleboy.post(\"action/unequip\", data={'slot': 'weapon', 'quantity': 1})"
   ]
  },
  {
   "cell_type": "code",
   "execution_count": 21,
   "id": "bd34788c-7b63-4169-989d-7c4d34eb416a",
   "metadata": {},
   "outputs": [],
   "source": [
    "pebbleboy.move(4, 1)\n",
    "pebbleboy.post(\"action/bank/withdraw\", data={'code': 'ash_wood', 'quantity': 4})\n",
    "pebbleboy.move(2, 1)\n",
    "pebbleboy.post(\"action/crafting\", data={'code': 'wooden_staff', 'quantity': 1})\n",
    "pebbleboy.start_thread()"
   ]
  },
  {
   "cell_type": "code",
   "execution_count": 22,
   "id": "7f95bfde-41d5-46fd-9523-fbf7ee38569d",
   "metadata": {},
   "outputs": [],
   "source": [
    "pebbleboy.stop_thread()\n",
    "pebbleboy.deposit_all()\n",
    "pebbleboy.start_thread()"
   ]
  },
  {
   "cell_type": "code",
   "execution_count": null,
   "id": "cb59dba2-4b8e-4a93-8365-abf41f7696e2",
   "metadata": {},
   "outputs": [],
   "source": []
  },
  {
   "cell_type": "code",
   "execution_count": null,
   "id": "c2419e57-ba51-4dfb-99b8-faaee0fc5d09",
   "metadata": {},
   "outputs": [],
   "source": []
  },
  {
   "cell_type": "code",
   "execution_count": null,
   "id": "a5fc1ec5-35a9-4012-ad45-95bde91de998",
   "metadata": {},
   "outputs": [],
   "source": []
  },
  {
   "cell_type": "code",
   "execution_count": null,
   "id": "5e36ed51-8205-4637-a2d3-e19abe5f479f",
   "metadata": {},
   "outputs": [],
   "source": []
  },
  {
   "cell_type": "code",
   "execution_count": null,
   "id": "c9a6fe7e-d06b-4619-a1c3-b922bd5c1c82",
   "metadata": {},
   "outputs": [],
   "source": []
  },
  {
   "cell_type": "code",
   "execution_count": 12,
   "id": "00e6491e-c723-4fd9-bf41-acd2cbe4afc5",
   "metadata": {},
   "outputs": [
    {
     "data": {
      "text/plain": [
       "b'{\"error\":{\"code\":598,\"message\":\"Workshop not found on this map.\"}}'"
      ]
     },
     "execution_count": 12,
     "metadata": {},
     "output_type": "execute_result"
    }
   ],
   "source": [
    "pebbleboy.response.content"
   ]
  },
  {
   "cell_type": "code",
   "execution_count": 5,
   "id": "a4aebd02-c649-4c7e-8282-3ad6340c193b",
   "metadata": {},
   "outputs": [],
   "source": [
    "for player in players:\n",
    "    player.stop_thread()"
   ]
  }
 ],
 "metadata": {
  "kernelspec": {
   "display_name": "Python 3 (ipykernel)",
   "language": "python",
   "name": "python3"
  },
  "language_info": {
   "codemirror_mode": {
    "name": "ipython",
    "version": 3
   },
   "file_extension": ".py",
   "mimetype": "text/x-python",
   "name": "python",
   "nbconvert_exporter": "python",
   "pygments_lexer": "ipython3",
   "version": "3.13.2"
  }
 },
 "nbformat": 4,
 "nbformat_minor": 5
}
